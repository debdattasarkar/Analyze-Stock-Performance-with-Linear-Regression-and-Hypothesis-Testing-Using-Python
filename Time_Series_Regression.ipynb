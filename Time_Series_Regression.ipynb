{
 "cells": [
  {
   "cell_type": "markdown",
   "id": "0f2daaeb",
   "metadata": {},
   "source": [
    "## Analyze Stock (Price) Performance with Linear Regression and Hypothesis Testing Using Python"
   ]
  },
  {
   "cell_type": "markdown",
   "id": "1893fe19",
   "metadata": {},
   "source": [
    "### Task 1: Load and inspect the Stock Price Dataset "
   ]
  },
  {
   "cell_type": "code",
   "execution_count": null,
   "id": "25e8a445",
   "metadata": {},
   "outputs": [],
   "source": [
    "import pandas as pd\n",
    "import numpy as np\n",
    "import matplotlib.pyplot as plt\n",
    "import seaborn as sns\n",
    "import statsmodels.formula.api as smf\n",
    "pd.options.display.float_format = \"{:,.2f}\".format"
   ]
  },
  {
   "cell_type": "code",
   "execution_count": null,
   "id": "9599cd09",
   "metadata": {},
   "outputs": [],
   "source": [
    "prices = pd.read_csv(\"stock_prices.csv\", index_col = \"Date\", parse_dates = [\"Date\"])\n",
    "prices"
   ]
  },
  {
   "cell_type": "markdown",
   "id": "c3da67d7",
   "metadata": {},
   "source": [
    "### Column Information (stock_prices.csv)"
   ]
  },
  {
   "cell_type": "markdown",
   "id": "c0478592",
   "metadata": {},
   "source": [
    "- AAPL: Daily Stock Prices for Apple Inc.\n",
    "- AJG: Daily Stock Prices for Arthur J. Gallagher & Co.\n",
    "- AVB: Daily Stock Prices for AvalonBay Communities Inc.\n",
    "- DLR: Daily Stock Prices for Digital Realty Trust Inc.\n",
    "- ICE: Daily Stock Prices for Intercontinental Exchange Inc.\n",
    "- INCY: Daily Stock Prices for Incyte Corporation\n",
    "- KHC: Daily Stock Prices for The Kraft Heinz Company\n",
    "- LLY: Daily Stock Prices for Eli Lilly And Co.\n",
    "- MCHP: Daily Stock Prices for Microchip Technology Inc.\n",
    "- MDT: Daily Stock Prices for Medtronic PLC\n",
    "- MOH: Daily Stock Prices for Molina Healthcare Inc.\n",
    "- NDAQ: Daily Stock Prices for Nasdaq Inc.\n",
    "- PRU: Daily Stock Prices for Prudential Financial Inc.\n",
    "- STLD: Daily Stock Prices for Steel Dynamics\n",
    "- TER: Daily Stock Prices for Teradyne Inc."
   ]
  },
  {
   "cell_type": "code",
   "execution_count": null,
   "id": "b31bbbda",
   "metadata": {},
   "outputs": [],
   "source": []
  },
  {
   "cell_type": "markdown",
   "id": "421127a8",
   "metadata": {},
   "source": [
    "### Column Information (factors.csv)"
   ]
  },
  {
   "cell_type": "markdown",
   "id": "ea86a16e",
   "metadata": {},
   "source": [
    "__The Return of the risk-free Asset:__<br>\n",
    "__RF:__ the one-month Treasury bill rate (from Ibbotson Associates)."
   ]
  },
  {
   "cell_type": "markdown",
   "id": "825a60c4",
   "metadata": {},
   "source": [
    "__Fama/French 5 Factors:__"
   ]
  },
  {
   "cell_type": "markdown",
   "id": "19c9913e",
   "metadata": {},
   "source": [
    "- The \"MARKET RISK\" factor: <br>\n",
    "__MktPrem__: Market Risk Premium (Rm-Rf). The excess return of the market portfolio (Rm) over the risk-free asset (Rf). Market Portfolio Return: Value-weight return of all CRSP firms incorporated in the US and listed on the NYSE, AMEX, or NASDAQ."
   ]
  },
  {
   "cell_type": "markdown",
   "id": "356ea251",
   "metadata": {},
   "source": [
    "- The \"SIZE\" factor: <br>\n",
    "__SMB__: SMB (Small Minus Big Company Size) is the average return on nine small stock portfolios minus the average return on nine big stock portfolios. "
   ]
  },
  {
   "cell_type": "markdown",
   "id": "73635265",
   "metadata": {},
   "source": [
    "- The \"VALUE\" factor: <br>\n",
    "__HML__: HML (High Minus Low [Book Value/Market Value]) is the average return on two value portfolios (high book value/market value) minus the average return on two growth portfolios (low book value/market value)."
   ]
  },
  {
   "cell_type": "markdown",
   "id": "e4832255",
   "metadata": {},
   "source": [
    "- The \"OPERATING PROFITABILITY\" factor: <br>\n",
    "__RMW__: RMW (Robust Minus Weak) is the average return on two robust operating profitability portfolios minus the average return on two weak operating profitability portfolios."
   ]
  },
  {
   "cell_type": "markdown",
   "id": "378e29ed",
   "metadata": {},
   "source": [
    "- The \"INVESTMENT\" factor: <br>\n",
    "__CMA__: CMA (Conservative Minus Aggressive) is the average return on two conservative investment portfolios minus the average return on two aggressive investment portfolios."
   ]
  },
  {
   "cell_type": "code",
   "execution_count": null,
   "id": "a2d5b19e",
   "metadata": {},
   "outputs": [],
   "source": []
  }
 ],
 "metadata": {
  "kernelspec": {
   "display_name": "Python 3 (ipykernel)",
   "language": "python",
   "name": "python3"
  },
  "language_info": {
   "codemirror_mode": {
    "name": "ipython",
    "version": 3
   },
   "file_extension": ".py",
   "mimetype": "text/x-python",
   "name": "python",
   "nbconvert_exporter": "python",
   "pygments_lexer": "ipython3",
   "version": "3.9.13"
  }
 },
 "nbformat": 4,
 "nbformat_minor": 5
}
